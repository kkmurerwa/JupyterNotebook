{
 "cells": [
  {
   "cell_type": "code",
   "execution_count": 3,
   "metadata": {},
   "outputs": [
    {
     "data": {
      "text/html": [
       "<div>\n",
       "<style scoped>\n",
       "    .dataframe tbody tr th:only-of-type {\n",
       "        vertical-align: middle;\n",
       "    }\n",
       "\n",
       "    .dataframe tbody tr th {\n",
       "        vertical-align: top;\n",
       "    }\n",
       "\n",
       "    .dataframe thead th {\n",
       "        text-align: right;\n",
       "    }\n",
       "</style>\n",
       "<table border=\"1\" class=\"dataframe\">\n",
       "  <thead>\n",
       "    <tr style=\"text-align: right;\">\n",
       "      <th></th>\n",
       "      <th>Fiscal Year</th>\n",
       "      <th>Business Name</th>\n",
       "      <th>First Name</th>\n",
       "      <th>Last Name</th>\n",
       "      <th>Address</th>\n",
       "      <th>City</th>\n",
       "      <th>State</th>\n",
       "      <th>Zip Code</th>\n",
       "      <th>Amt Paid</th>\n",
       "      <th>Credit Amt</th>\n",
       "      <th>Outcomes</th>\n",
       "      <th>Taxpayer requirement</th>\n",
       "    </tr>\n",
       "  </thead>\n",
       "  <tbody>\n",
       "    <tr>\n",
       "      <th>0</th>\n",
       "      <td>2016-2017</td>\n",
       "      <td>Excel Finishing</td>\n",
       "      <td>Joe</td>\n",
       "      <td>Robinson</td>\n",
       "      <td>1765 Red Soils Ct, Ste. 105</td>\n",
       "      <td>Oregon City</td>\n",
       "      <td>OR</td>\n",
       "      <td>97045</td>\n",
       "      <td>15480.0</td>\n",
       "      <td>15000.0</td>\n",
       "      <td>Taxpayer received an Oregon state credit and e...</td>\n",
       "      <td>Taxpayer filled out application and submitted ...</td>\n",
       "    </tr>\n",
       "    <tr>\n",
       "      <th>1</th>\n",
       "      <td>2016-2017</td>\n",
       "      <td>Jason Waxberg P.C.</td>\n",
       "      <td>Jason</td>\n",
       "      <td>Waxberg</td>\n",
       "      <td>1715 SE 51st Ave</td>\n",
       "      <td>Portland</td>\n",
       "      <td>OR</td>\n",
       "      <td>97215</td>\n",
       "      <td>20400.0</td>\n",
       "      <td>20000.0</td>\n",
       "      <td>Taxpayer received an Oregon state credit and e...</td>\n",
       "      <td>Taxpayer filled out application and submitted ...</td>\n",
       "    </tr>\n",
       "    <tr>\n",
       "      <th>2</th>\n",
       "      <td>2016-2017</td>\n",
       "      <td>Stein Oil Company Inc.</td>\n",
       "      <td>George</td>\n",
       "      <td>Hughes</td>\n",
       "      <td>4900 Meadows Rd, Suite 200</td>\n",
       "      <td>Lake Oswego</td>\n",
       "      <td>OR</td>\n",
       "      <td>97035</td>\n",
       "      <td>309600.0</td>\n",
       "      <td>300000.0</td>\n",
       "      <td>Taxpayer received an Oregon state credit and e...</td>\n",
       "      <td>Taxpayer filled out application and submitted ...</td>\n",
       "    </tr>\n",
       "    <tr>\n",
       "      <th>3</th>\n",
       "      <td>2016-2017</td>\n",
       "      <td>NaN</td>\n",
       "      <td>Natalie</td>\n",
       "      <td>Crenshaw</td>\n",
       "      <td>4900 Meadows Rd - Suite 200</td>\n",
       "      <td>Lake Oswego</td>\n",
       "      <td>OR</td>\n",
       "      <td>97035</td>\n",
       "      <td>8240.0</td>\n",
       "      <td>8000.0</td>\n",
       "      <td>Taxpayer received an Oregon state credit and e...</td>\n",
       "      <td>Taxpayer filled out application and submitted ...</td>\n",
       "    </tr>\n",
       "    <tr>\n",
       "      <th>4</th>\n",
       "      <td>2016-2017</td>\n",
       "      <td>NaN</td>\n",
       "      <td>Mark</td>\n",
       "      <td>Ace</td>\n",
       "      <td>1314 NW Irving St Apt 607</td>\n",
       "      <td>Portland</td>\n",
       "      <td>OR</td>\n",
       "      <td>97209</td>\n",
       "      <td>5200.0</td>\n",
       "      <td>5000.0</td>\n",
       "      <td>Taxpayer received an Oregon state credit and e...</td>\n",
       "      <td>Taxpayer filled out application and submitted ...</td>\n",
       "    </tr>\n",
       "    <tr>\n",
       "      <th>5</th>\n",
       "      <td>2016-2017</td>\n",
       "      <td>NaN</td>\n",
       "      <td>Jason</td>\n",
       "      <td>Adams</td>\n",
       "      <td>11414 NE Norwood Loop</td>\n",
       "      <td>Happy Valley</td>\n",
       "      <td>OR</td>\n",
       "      <td>97086</td>\n",
       "      <td>25250.0</td>\n",
       "      <td>25000.0</td>\n",
       "      <td>Taxpayer received an Oregon state credit and e...</td>\n",
       "      <td>Taxpayer filled out application and submitted ...</td>\n",
       "    </tr>\n",
       "    <tr>\n",
       "      <th>6</th>\n",
       "      <td>2016-2017</td>\n",
       "      <td>NaN</td>\n",
       "      <td>Andrew</td>\n",
       "      <td>Aebi</td>\n",
       "      <td>15845 SW Cardinal Loop</td>\n",
       "      <td>Beaverton</td>\n",
       "      <td>OR</td>\n",
       "      <td>97007</td>\n",
       "      <td>26468.0</td>\n",
       "      <td>26000.0</td>\n",
       "      <td>Taxpayer received an Oregon state credit and e...</td>\n",
       "      <td>Taxpayer filled out application and submitted ...</td>\n",
       "    </tr>\n",
       "    <tr>\n",
       "      <th>7</th>\n",
       "      <td>2016-2017</td>\n",
       "      <td>NaN</td>\n",
       "      <td>James</td>\n",
       "      <td>Alder</td>\n",
       "      <td>13883 NW Hartung Ct</td>\n",
       "      <td>Portland</td>\n",
       "      <td>OR</td>\n",
       "      <td>97229</td>\n",
       "      <td>10540.0</td>\n",
       "      <td>10000.0</td>\n",
       "      <td>Taxpayer received an Oregon state credit and e...</td>\n",
       "      <td>Taxpayer filled out application and submitted ...</td>\n",
       "    </tr>\n",
       "    <tr>\n",
       "      <th>8</th>\n",
       "      <td>2016-2017</td>\n",
       "      <td>NaN</td>\n",
       "      <td>James</td>\n",
       "      <td>Alder</td>\n",
       "      <td>43883 NW Hartung Ct</td>\n",
       "      <td>Portland</td>\n",
       "      <td>OR</td>\n",
       "      <td>97229</td>\n",
       "      <td>10420.0</td>\n",
       "      <td>10000.0</td>\n",
       "      <td>Taxpayer received an Oregon state credit and e...</td>\n",
       "      <td>Taxpayer filled out application and submitted ...</td>\n",
       "    </tr>\n",
       "    <tr>\n",
       "      <th>9</th>\n",
       "      <td>2016-2017</td>\n",
       "      <td>NaN</td>\n",
       "      <td>Mark</td>\n",
       "      <td>Allen</td>\n",
       "      <td>17195 SW Arbutus Drive</td>\n",
       "      <td>Beaverton</td>\n",
       "      <td>OR</td>\n",
       "      <td>97007</td>\n",
       "      <td>15750.0</td>\n",
       "      <td>15000.0</td>\n",
       "      <td>Taxpayer received an Oregon state credit and e...</td>\n",
       "      <td>Taxpayer filled out application and submitted ...</td>\n",
       "    </tr>\n",
       "  </tbody>\n",
       "</table>\n",
       "</div>"
      ],
      "text/plain": [
       "  Fiscal Year            Business Name First Name  Last Name  \\\n",
       "0   2016-2017          Excel Finishing       Joe    Robinson   \n",
       "1   2016-2017      Jason Waxberg P.C.       Jason    Waxberg   \n",
       "2   2016-2017  Stein Oil Company Inc.     George      Hughes   \n",
       "3   2016-2017                      NaN    Natalie   Crenshaw   \n",
       "4   2016-2017                      NaN       Mark        Ace   \n",
       "5   2016-2017                      NaN      Jason      Adams   \n",
       "6   2016-2017                      NaN    Andrew        Aebi   \n",
       "7   2016-2017                      NaN      James      Alder   \n",
       "8   2016-2017                      NaN      James      Alder   \n",
       "9   2016-2017                      NaN       Mark      Allen   \n",
       "\n",
       "                       Address          City State Zip Code  Amt Paid  \\\n",
       "0  1765 Red Soils Ct, Ste. 105   Oregon City   OR     97045   15480.0   \n",
       "1             1715 SE 51st Ave     Portland    OR     97215   20400.0   \n",
       "2   4900 Meadows Rd, Suite 200   Lake Oswego   OR     97035  309600.0   \n",
       "3  4900 Meadows Rd - Suite 200   Lake Oswego    OR    97035    8240.0   \n",
       "4    1314 NW Irving St Apt 607     Portland     OR    97209    5200.0   \n",
       "5       11414 NE Norwood Loop   Happy Valley    OR    97086   25250.0   \n",
       "6       15845 SW Cardinal Loop     Beaverton    OR    97007   26468.0   \n",
       "7          13883 NW Hartung Ct     Portland     OR    97229   10540.0   \n",
       "8          43883 NW Hartung Ct     Portland     OR    97229   10420.0   \n",
       "9       17195 SW Arbutus Drive     Beaverton    OR    97007   15750.0   \n",
       "\n",
       "   Credit Amt                                           Outcomes  \\\n",
       "0     15000.0  Taxpayer received an Oregon state credit and e...   \n",
       "1     20000.0  Taxpayer received an Oregon state credit and e...   \n",
       "2    300000.0  Taxpayer received an Oregon state credit and e...   \n",
       "3      8000.0  Taxpayer received an Oregon state credit and e...   \n",
       "4      5000.0  Taxpayer received an Oregon state credit and e...   \n",
       "5     25000.0  Taxpayer received an Oregon state credit and e...   \n",
       "6     26000.0  Taxpayer received an Oregon state credit and e...   \n",
       "7     10000.0  Taxpayer received an Oregon state credit and e...   \n",
       "8     10000.0  Taxpayer received an Oregon state credit and e...   \n",
       "9     15000.0  Taxpayer received an Oregon state credit and e...   \n",
       "\n",
       "                                Taxpayer requirement  \n",
       "0  Taxpayer filled out application and submitted ...  \n",
       "1  Taxpayer filled out application and submitted ...  \n",
       "2  Taxpayer filled out application and submitted ...  \n",
       "3  Taxpayer filled out application and submitted ...  \n",
       "4  Taxpayer filled out application and submitted ...  \n",
       "5  Taxpayer filled out application and submitted ...  \n",
       "6  Taxpayer filled out application and submitted ...  \n",
       "7  Taxpayer filled out application and submitted ...  \n",
       "8  Taxpayer filled out application and submitted ...  \n",
       "9  Taxpayer filled out application and submitted ...  "
      ]
     },
     "execution_count": 3,
     "metadata": {},
     "output_type": "execute_result"
    }
   ],
   "source": [
    "import pandas as pd\n",
    "import numpy as np\n",
    "import matplotlib.pyplot as plt\n",
    "\n",
    "%matplotlib inline\n",
    "df = pd.read_csv(\"OregonReport.csv\")\n",
    "df.head(10)\n"
   ]
  },
  {
   "cell_type": "markdown",
   "metadata": {},
   "source": [
    "We check for the size of the dataset"
   ]
  },
  {
   "cell_type": "code",
   "execution_count": 4,
   "metadata": {
    "scrolled": true
   },
   "outputs": [
    {
     "data": {
      "text/plain": [
       "(2199, 12)"
      ]
     },
     "execution_count": 4,
     "metadata": {},
     "output_type": "execute_result"
    }
   ],
   "source": [
    "df.shape"
   ]
  },
  {
   "cell_type": "markdown",
   "metadata": {},
   "source": [
    "Next We check the datatypes of the columns in the file"
   ]
  },
  {
   "cell_type": "code",
   "execution_count": 5,
   "metadata": {},
   "outputs": [
    {
     "data": {
      "text/plain": [
       "Fiscal Year              object\n",
       "Business Name            object\n",
       "First Name               object\n",
       "Last Name                object\n",
       "Address                  object\n",
       "City                     object\n",
       "State                    object\n",
       "Zip Code                 object\n",
       "Amt Paid                float64\n",
       "Credit Amt              float64\n",
       "Outcomes                 object\n",
       "Taxpayer requirement     object\n",
       "dtype: object"
      ]
     },
     "execution_count": 5,
     "metadata": {},
     "output_type": "execute_result"
    }
   ],
   "source": [
    "df.dtypes"
   ]
  },
  {
   "cell_type": "markdown",
   "metadata": {},
   "source": [
    "Next we check for duplicate values. The brackets help return a true or false value.\n",
    "If there are no duplicate values, all the returns will be false"
   ]
  },
  {
   "cell_type": "code",
   "execution_count": 6,
   "metadata": {},
   "outputs": [
    {
     "data": {
      "text/plain": [
       "0       False\n",
       "1       False\n",
       "2       False\n",
       "3       False\n",
       "4       False\n",
       "5       False\n",
       "6       False\n",
       "7       False\n",
       "8       False\n",
       "9       False\n",
       "10      False\n",
       "11      False\n",
       "12      False\n",
       "13      False\n",
       "14      False\n",
       "15      False\n",
       "16      False\n",
       "17      False\n",
       "18      False\n",
       "19      False\n",
       "20      False\n",
       "21      False\n",
       "22      False\n",
       "23      False\n",
       "24      False\n",
       "25      False\n",
       "26      False\n",
       "27      False\n",
       "28      False\n",
       "29      False\n",
       "        ...  \n",
       "2169    False\n",
       "2170    False\n",
       "2171    False\n",
       "2172    False\n",
       "2173    False\n",
       "2174    False\n",
       "2175    False\n",
       "2176    False\n",
       "2177    False\n",
       "2178    False\n",
       "2179    False\n",
       "2180    False\n",
       "2181    False\n",
       "2182    False\n",
       "2183    False\n",
       "2184    False\n",
       "2185    False\n",
       "2186    False\n",
       "2187    False\n",
       "2188    False\n",
       "2189    False\n",
       "2190    False\n",
       "2191    False\n",
       "2192    False\n",
       "2193    False\n",
       "2194    False\n",
       "2195    False\n",
       "2196    False\n",
       "2197    False\n",
       "2198    False\n",
       "Length: 2199, dtype: bool"
      ]
     },
     "execution_count": 6,
     "metadata": {},
     "output_type": "execute_result"
    }
   ],
   "source": [
    "df.duplicated()"
   ]
  },
  {
   "cell_type": "markdown",
   "metadata": {},
   "source": [
    "We then analyze the values in the columns numerically. In the data below, I sorted the data by City to tabulate an individual city's population"
   ]
  },
  {
   "cell_type": "code",
   "execution_count": 7,
   "metadata": {},
   "outputs": [
    {
     "name": "stdout",
     "output_type": "stream",
     "text": [
      "               col  count\n",
      "0      Lake Oswego    309\n",
      "1         Portland    255\n",
      "2        Portland     121\n",
      "3        Beaverton     58\n",
      "4            Salem     50\n",
      "5           Eugene     31\n",
      "6        West Linn     26\n",
      "7           Tigard     25\n",
      "8        Hillsboro     23\n",
      "9         Tualatin     20\n",
      "10       Tualatin      17\n",
      "11    Happy Valley     15\n",
      "12         Eugene      13\n",
      "13    Wilsonville      12\n",
      "14       Sherwood      12\n",
      "15     Oregon City     10\n",
      "16            Bend      9\n",
      "17           Bend       8\n",
      "18         Newberg      8\n",
      "19          Keizer      6\n",
      "20        Monmouth      6\n",
      "21         Gresham      6\n",
      "22        Sherwood      5\n",
      "23          Aurora      5\n",
      "24           Canby      5\n",
      "25         Keizer       4\n",
      "26      Vancouver       4\n",
      "27       Corvallis      4\n",
      "28          Dallas      4\n",
      "29           Sandy      4\n",
      "..             ...    ...\n",
      "51        Creswell      1\n",
      "52     Brownsville      1\n",
      "53     Grants Pass      1\n",
      "54         Seaside      1\n",
      "55        St Paul       1\n",
      "56        Estacada      1\n",
      "57      Milwaukie       1\n",
      "58            Vida      1\n",
      "59    Beavercreek       1\n",
      "60         Albany       1\n",
      "61         Rainier      1\n",
      "62    Rhododendron      1\n",
      "63          Mulino      1\n",
      "64            Scio      1\n",
      "65        Ashland       1\n",
      "66       Vancouver      1\n",
      "67     Beavercreek      1\n",
      "68       Damascus       1\n",
      "69   Junction City      1\n",
      "70          Dayton      1\n",
      "71  Gleneden Beach      1\n",
      "72      Sublimity       1\n",
      "73      Tillamook       1\n",
      "74         Dexter       1\n",
      "75       Tillamook      1\n",
      "76        Woodburn      1\n",
      "77       Estacada       1\n",
      "78       Scappoose      1\n",
      "79           Banks      1\n",
      "80       Troutdale      1\n",
      "\n",
      "[81 rows x 2 columns]\n"
     ]
    }
   ],
   "source": [
    "sorted_data = df[\"City\"].value_counts().reset_index()\n",
    "sorted_data.columns = ['col', 'count']\n",
    "print (sorted_data)"
   ]
  },
  {
   "cell_type": "markdown",
   "metadata": {},
   "source": [
    "I format the data to only the top 5 columns. "
   ]
  },
  {
   "cell_type": "code",
   "execution_count": 8,
   "metadata": {},
   "outputs": [
    {
     "name": "stdout",
     "output_type": "stream",
     "text": [
      "           col  count\n",
      "0  Lake Oswego    309\n",
      "1     Portland    255\n",
      "2    Portland     121\n",
      "3    Beaverton     58\n",
      "4        Salem     50\n"
     ]
    }
   ],
   "source": [
    "sorted_data = sorted_data[:5]\n",
    "print(sorted_data)"
   ]
  },
  {
   "cell_type": "code",
   "execution_count": null,
   "metadata": {},
   "outputs": [],
   "source": [
    "I then plot the graph of sorted_data. I am unable to remove the duplicate \"Portland columns\". Any help would be apprecited"
   ]
  },
  {
   "cell_type": "code",
   "execution_count": 9,
   "metadata": {
    "scrolled": true
   },
   "outputs": [
    {
     "data": {
      "image/png": "[encoded data removed]",
      "text/plain": [
       "<Figure size 1080x360 with 1 Axes>"
      ]
     },
     "metadata": {
      "needs_background": "light"
     },
     "output_type": "display_data"
    }
   ],
   "source": [
    "plt.figure(figsize=(15,5))#Sets the size of the plot\n",
    "\n",
    "x = sorted_data['col']#Sets x axis\n",
    "y = sorted_data['count']#Sets y axis\n",
    "\n",
    "plt.xlabel(\"Number of Taxpayers from Locations\")\n",
    "plt.ylabel(\"Locations\")\n",
    "plt.title(\"A bar of the top five locations of sampled taxpayers\")\n",
    "plt.bar(x, y)\n",
    "plt.show()#Shows the plot"
   ]
  }
 ],
 "metadata": {
  "kernelspec": {
   "display_name": "Python 3",
   "language": "python",
   "name": "python3"
  },
  "language_info": {
   "codemirror_mode": {
    "name": "ipython",
    "version": 3
   },
   "file_extension": ".py",
   "mimetype": "text/x-python",
   "name": "python",
   "nbconvert_exporter": "python",
   "pygments_lexer": "ipython3",
   "version": "3.6.6"
  }
 },
 "nbformat": 4,
 "nbformat_minor": 2
}
