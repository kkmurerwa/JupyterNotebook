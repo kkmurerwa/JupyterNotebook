{
 "cells": [
  {
   "cell_type": "code",
   "execution_count": 5,
   "metadata": {},
   "outputs": [],
   "source": [
    "#import the modules that will be used in creating the notebook\n",
    "import pandas as pd\n",
    "import matplotlib.pyplot as plt\n",
    "import numpy as np\n",
    "\n",
    "data_frame = pd.read_csv(\"NCADataAsset.csv\")#contents of the csv file are stored in this dataframe\n",
    "#so far our data frame has imported the values from the comma separated values file"
   ]
  },
  {
   "cell_type": "markdown",
   "metadata": {},
   "source": [
    "I will then print a sample of the data from the csv file"
   ]
  },
  {
   "cell_type": "code",
   "execution_count": 7,
   "metadata": {},
   "outputs": [
    {
     "data": {
      "text/html": [
       "<div>\n",
       "<style scoped>\n",
       "    .dataframe tbody tr th:only-of-type {\n",
       "        vertical-align: middle;\n",
       "    }\n",
       "\n",
       "    .dataframe tbody tr th {\n",
       "        vertical-align: top;\n",
       "    }\n",
       "\n",
       "    .dataframe thead th {\n",
       "        text-align: right;\n",
       "    }\n",
       "</style>\n",
       "<table border=\"1\" class=\"dataframe\">\n",
       "  <thead>\n",
       "    <tr style=\"text-align: right;\">\n",
       "      <th></th>\n",
       "      <th>State</th>\n",
       "      <th>Cemetery Name</th>\n",
       "      <th>Address</th>\n",
       "      <th>Longitude</th>\n",
       "      <th>Latitude</th>\n",
       "      <th>Contact</th>\n",
       "      <th>Burial Space</th>\n",
       "    </tr>\n",
       "  </thead>\n",
       "  <tbody>\n",
       "    <tr>\n",
       "      <th>0</th>\n",
       "      <td>Alabama</td>\n",
       "      <td>Alabama National Cemetery</td>\n",
       "      <td>3133 Highway 119, Montevallo, AL 35115</td>\n",
       "      <td>-86.837279</td>\n",
       "      <td>33.132427</td>\n",
       "      <td>Phone: 205-665-9039, FAX: 205-665-7790</td>\n",
       "      <td>Open</td>\n",
       "    </tr>\n",
       "    <tr>\n",
       "      <th>1</th>\n",
       "      <td>Alabama</td>\n",
       "      <td>Fort Mitchell National Cemetery</td>\n",
       "      <td>553 Highway 165, Ft. Mitchell, AL 36856</td>\n",
       "      <td>-85.023735</td>\n",
       "      <td>32.346354</td>\n",
       "      <td>Phone: 334-855-4731, FAX: 334-855-4470</td>\n",
       "      <td>Open</td>\n",
       "    </tr>\n",
       "    <tr>\n",
       "      <th>2</th>\n",
       "      <td>Alabama</td>\n",
       "      <td>Mobile National Cemetery</td>\n",
       "      <td>1202 Virginia Street, Mobile, AL 36604</td>\n",
       "      <td>-88.062610</td>\n",
       "      <td>30.672792</td>\n",
       "      <td>Phone: 850-453-4846 Or 850-453-4108, FAX: 850-...</td>\n",
       "      <td>Closed</td>\n",
       "    </tr>\n",
       "    <tr>\n",
       "      <th>3</th>\n",
       "      <td>Alaska</td>\n",
       "      <td>Fort Richardson National Cemetery</td>\n",
       "      <td>Bldg 58-512 Davis Hwy, Fort Richardson, AK 99505</td>\n",
       "      <td>-149.658105</td>\n",
       "      <td>61.272270</td>\n",
       "      <td>Phone: 907-384-7075, FAX: 907-384-7111</td>\n",
       "      <td>Open</td>\n",
       "    </tr>\n",
       "    <tr>\n",
       "      <th>4</th>\n",
       "      <td>Alaska</td>\n",
       "      <td>Sitka National Cemetery</td>\n",
       "      <td>803 Sawmill Creek Road, Sitka, AK 99835</td>\n",
       "      <td>-135.321204</td>\n",
       "      <td>57.053835</td>\n",
       "      <td>Phone: 907-384-7075, FAX: 907-384-7111</td>\n",
       "      <td>Open</td>\n",
       "    </tr>\n",
       "  </tbody>\n",
       "</table>\n",
       "</div>"
      ],
      "text/plain": [
       "     State                      Cemetery Name  \\\n",
       "0  Alabama          Alabama National Cemetery   \n",
       "1  Alabama    Fort Mitchell National Cemetery   \n",
       "2  Alabama           Mobile National Cemetery   \n",
       "3   Alaska  Fort Richardson National Cemetery   \n",
       "4   Alaska            Sitka National Cemetery   \n",
       "\n",
       "                                            Address   Longitude   Latitude  \\\n",
       "0            3133 Highway 119, Montevallo, AL 35115  -86.837279  33.132427   \n",
       "1           553 Highway 165, Ft. Mitchell, AL 36856  -85.023735  32.346354   \n",
       "2            1202 Virginia Street, Mobile, AL 36604  -88.062610  30.672792   \n",
       "3  Bldg 58-512 Davis Hwy, Fort Richardson, AK 99505 -149.658105  61.272270   \n",
       "4           803 Sawmill Creek Road, Sitka, AK 99835 -135.321204  57.053835   \n",
       "\n",
       "                                             Contact Burial Space  \n",
       "0             Phone: 205-665-9039, FAX: 205-665-7790         Open  \n",
       "1             Phone: 334-855-4731, FAX: 334-855-4470         Open  \n",
       "2  Phone: 850-453-4846 Or 850-453-4108, FAX: 850-...       Closed  \n",
       "3             Phone: 907-384-7075, FAX: 907-384-7111         Open  \n",
       "4             Phone: 907-384-7075, FAX: 907-384-7111         Open  "
      ]
     },
     "execution_count": 7,
     "metadata": {},
     "output_type": "execute_result"
    }
   ],
   "source": [
    "data_frame.head(5)"
   ]
  },
  {
   "cell_type": "markdown",
   "metadata": {},
   "source": [
    "I will then find the size of the dataframe"
   ]
  },
  {
   "cell_type": "code",
   "execution_count": 9,
   "metadata": {},
   "outputs": [
    {
     "data": {
      "text/plain": [
       "(170, 7)"
      ]
     },
     "execution_count": 9,
     "metadata": {},
     "output_type": "execute_result"
    }
   ],
   "source": [
    "data_frame.shape"
   ]
  },
  {
   "cell_type": "markdown",
   "metadata": {},
   "source": [
    "I will look for duplicated values"
   ]
  },
  {
   "cell_type": "code",
   "execution_count": 10,
   "metadata": {},
   "outputs": [
    {
     "data": {
      "text/plain": [
       "0      False\n",
       "1      False\n",
       "2      False\n",
       "3      False\n",
       "4      False\n",
       "5      False\n",
       "6      False\n",
       "7      False\n",
       "8      False\n",
       "9      False\n",
       "10     False\n",
       "11     False\n",
       "12     False\n",
       "13     False\n",
       "14     False\n",
       "15     False\n",
       "16     False\n",
       "17     False\n",
       "18     False\n",
       "19     False\n",
       "20     False\n",
       "21     False\n",
       "22     False\n",
       "23     False\n",
       "24     False\n",
       "25     False\n",
       "26     False\n",
       "27     False\n",
       "28     False\n",
       "29     False\n",
       "       ...  \n",
       "140    False\n",
       "141    False\n",
       "142    False\n",
       "143    False\n",
       "144    False\n",
       "145    False\n",
       "146    False\n",
       "147    False\n",
       "148    False\n",
       "149    False\n",
       "150    False\n",
       "151    False\n",
       "152    False\n",
       "153    False\n",
       "154    False\n",
       "155    False\n",
       "156    False\n",
       "157    False\n",
       "158    False\n",
       "159    False\n",
       "160    False\n",
       "161    False\n",
       "162    False\n",
       "163    False\n",
       "164    False\n",
       "165    False\n",
       "166    False\n",
       "167    False\n",
       "168    False\n",
       "169    False\n",
       "Length: 170, dtype: bool"
      ]
     },
     "execution_count": 10,
     "metadata": {},
     "output_type": "execute_result"
    }
   ],
   "source": [
    "data_frame.duplicated()"
   ]
  },
  {
   "cell_type": "markdown",
   "metadata": {},
   "source": [
    "Find the data types using dtypes"
   ]
  },
  {
   "cell_type": "code",
   "execution_count": 14,
   "metadata": {},
   "outputs": [
    {
     "data": {
      "text/plain": [
       "State             object\n",
       "Cemetery Name     object\n",
       "Address           object\n",
       "Longitude        float64\n",
       "Latitude         float64\n",
       "Contact           object\n",
       "Burial Space      object\n",
       "dtype: object"
      ]
     },
     "execution_count": 14,
     "metadata": {},
     "output_type": "execute_result"
    }
   ],
   "source": [
    "data_frame.dtypes"
   ]
  },
  {
   "cell_type": "code",
   "execution_count": null,
   "metadata": {},
   "outputs": [],
   "source": [
    "find the number of cemeteries by state"
   ]
  },
  {
   "cell_type": "code",
   "execution_count": 41,
   "metadata": {},
   "outputs": [
    {
     "name": "stdout",
     "output_type": "stream",
     "text": [
      "                   index  State\n",
      "0               Virginia     15\n",
      "1               Illinois     10\n",
      "2             California      9\n",
      "3           Pennsylvania      9\n",
      "4                Florida      9\n",
      "5               Kentucky      8\n",
      "6               New York      7\n",
      "7              Wisconsin      6\n",
      "8                  Texas      6\n",
      "9              Tennessee      5\n",
      "10                  Ohio      5\n",
      "11                Kansas      5\n",
      "12               Indiana      5\n",
      "13        North Carolina      4\n",
      "14              Michigan      4\n",
      "15             Louisiana      4\n",
      "16              Missouri      4\n",
      "17              Maryland      4\n",
      "18          South Dakota      3\n",
      "19              Nebraska      3\n",
      "20           Mississippi      3\n",
      "21               Alabama      3\n",
      "22        South Carolina      3\n",
      "23                Oregon      3\n",
      "24              Arkansas      3\n",
      "25               Georgia      2\n",
      "26         Massachusetts      2\n",
      "27               Vermont      2\n",
      "28              Oklahoma      2\n",
      "29              Colorado      2\n",
      "30                 Maine      2\n",
      "31               Arizona      2\n",
      "32                Alaska      2\n",
      "33         West Virginia      2\n",
      "34                  Iowa      2\n",
      "35            New Jersey      2\n",
      "36            New Mexico      2\n",
      "37  District of Columbia      1\n",
      "38                Hawaii      1\n",
      "39             Minnesota      1\n",
      "40           Puerto Rico      1\n",
      "41            Washington      1\n",
      "42               Montana      1\n"
     ]
    }
   ],
   "source": [
    "cemeteries_by_state = data_frame[\"State\"].value_counts().reset_index()\n",
    "print(cemeteries_by_state)"
   ]
  },
  {
   "cell_type": "markdown",
   "metadata": {},
   "source": [
    "Add columns to the data frame for easy manipulation and shorten to 10 values"
   ]
  },
  {
   "cell_type": "code",
   "execution_count": 44,
   "metadata": {},
   "outputs": [],
   "source": [
    "cemeteries_by_state.columns = ['State', 'Number']\n",
    "cemeteries_by_state = cemeteries_by_state[:10]"
   ]
  },
  {
   "cell_type": "markdown",
   "metadata": {},
   "source": [
    "# Plot of the cities by Cemeteries totals"
   ]
  },
  {
   "cell_type": "code",
   "execution_count": 113,
   "metadata": {},
   "outputs": [
    {
     "data": {
      "image/png": "[encoded data removed]",
      "text/plain": [
       "<Figure size 1080x360 with 1 Axes>"
      ]
     },
     "metadata": {
      "needs_background": "light"
     },
     "output_type": "display_data"
    }
   ],
   "source": [
    "plt.figure(figsize = (15,5))\n",
    "x = cemeteries_by_state['State']\n",
    "y = cemeteries_by_state['Number']\n",
    "\n",
    "plt.bar(x, y, color = \"red\")\n",
    "plt.xlabel(\"State\")\n",
    "plt.xticks(rotation=90)#Rotates the x-axis labels\n",
    "plt.ylabel(\"Number of Cemeteries in State\")\n",
    "plt.show()"
   ]
  },
  {
   "cell_type": "markdown",
   "metadata": {},
   "source": [
    "# Below is an analysis of people living below latitude 30 degrees"
   ]
  },
  {
   "cell_type": "markdown",
   "metadata": {},
   "source": [
    "Create a dataframe for the people by name and latitude"
   ]
  },
  {
   "cell_type": "code",
   "execution_count": 103,
   "metadata": {},
   "outputs": [
    {
     "data": {
      "text/html": [
       "<div>\n",
       "<style scoped>\n",
       "    .dataframe tbody tr th:only-of-type {\n",
       "        vertical-align: middle;\n",
       "    }\n",
       "\n",
       "    .dataframe tbody tr th {\n",
       "        vertical-align: top;\n",
       "    }\n",
       "\n",
       "    .dataframe thead th {\n",
       "        text-align: right;\n",
       "    }\n",
       "</style>\n",
       "<table border=\"1\" class=\"dataframe\">\n",
       "  <thead>\n",
       "    <tr style=\"text-align: right;\">\n",
       "      <th></th>\n",
       "      <th>Cemetery Name</th>\n",
       "      <th>Latitude</th>\n",
       "    </tr>\n",
       "  </thead>\n",
       "  <tbody>\n",
       "    <tr>\n",
       "      <th>0</th>\n",
       "      <td>Alabama National Cemetery</td>\n",
       "      <td>33.132427</td>\n",
       "    </tr>\n",
       "    <tr>\n",
       "      <th>1</th>\n",
       "      <td>Fort Mitchell National Cemetery</td>\n",
       "      <td>32.346354</td>\n",
       "    </tr>\n",
       "    <tr>\n",
       "      <th>2</th>\n",
       "      <td>Mobile National Cemetery</td>\n",
       "      <td>30.672792</td>\n",
       "    </tr>\n",
       "    <tr>\n",
       "      <th>3</th>\n",
       "      <td>Fort Richardson National Cemetery</td>\n",
       "      <td>61.272270</td>\n",
       "    </tr>\n",
       "    <tr>\n",
       "      <th>4</th>\n",
       "      <td>Sitka National Cemetery</td>\n",
       "      <td>57.053835</td>\n",
       "    </tr>\n",
       "    <tr>\n",
       "      <th>5</th>\n",
       "      <td>National Memorial Cemetery of Arizona</td>\n",
       "      <td>33.696119</td>\n",
       "    </tr>\n",
       "    <tr>\n",
       "      <th>6</th>\n",
       "      <td>Prescott National Cemetery</td>\n",
       "      <td>34.554560</td>\n",
       "    </tr>\n",
       "    <tr>\n",
       "      <th>7</th>\n",
       "      <td>Fayetteville National Cemetery</td>\n",
       "      <td>36.055929</td>\n",
       "    </tr>\n",
       "    <tr>\n",
       "      <th>8</th>\n",
       "      <td>Fort Smith National Cemetery</td>\n",
       "      <td>35.384631</td>\n",
       "    </tr>\n",
       "    <tr>\n",
       "      <th>9</th>\n",
       "      <td>Little Rock National Cemetery</td>\n",
       "      <td>34.723453</td>\n",
       "    </tr>\n",
       "  </tbody>\n",
       "</table>\n",
       "</div>"
      ],
      "text/plain": [
       "                           Cemetery Name   Latitude\n",
       "0              Alabama National Cemetery  33.132427\n",
       "1        Fort Mitchell National Cemetery  32.346354\n",
       "2               Mobile National Cemetery  30.672792\n",
       "3      Fort Richardson National Cemetery  61.272270\n",
       "4                Sitka National Cemetery  57.053835\n",
       "5  National Memorial Cemetery of Arizona  33.696119\n",
       "6             Prescott National Cemetery  34.554560\n",
       "7         Fayetteville National Cemetery  36.055929\n",
       "8           Fort Smith National Cemetery  35.384631\n",
       "9          Little Rock National Cemetery  34.723453"
      ]
     },
     "execution_count": 103,
     "metadata": {},
     "output_type": "execute_result"
    }
   ],
   "source": [
    "latitude_df = data_frame[[\"Cemetery Name\", \"Latitude\"]]#This saves both columns of the\n",
    "#initial dataframe in the new dataframe\n",
    "latitude_df.head(10)"
   ]
  },
  {
   "cell_type": "markdown",
   "metadata": {},
   "source": [
    "# Filter latitudes that are below 30.00 and sort by ascending values\n",
    "# This is the final Output"
   ]
  },
  {
   "cell_type": "code",
   "execution_count": 106,
   "metadata": {},
   "outputs": [
    {
     "name": "stdout",
     "output_type": "stream",
     "text": [
      "                                 Cemetery Name   Latitude\n",
      "126              Puerto Rico National Cemetery  18.409236\n",
      "33   National Memorial Cemetery of the Pacific  21.312693\n",
      "28             South Florida National Cemetery  26.580761\n",
      "27                  Sarasota National Cemetery  27.245232\n",
      "23                 Bay Pines National Cemetery  27.814616\n",
      "25                   Florida National Cemetery  28.605710\n",
      "24            Cape Canaveral National Cemetery  28.754991\n",
      "143              San Antonio National Cemetery  29.421615\n",
      "140         Fort Sam Houston National Cemetery  29.476659\n",
      "29             St. Augustine National Cemetery  29.886419\n",
      "141                  Houston National Cemetery  29.931570\n"
     ]
    }
   ],
   "source": [
    "latitude_df =  latitude_df[(latitude_df[\"Latitude\"] <30.00)].sort_values(by=\"Latitude\")\n",
    "print(latitude_df)"
   ]
  }
 ],
 "metadata": {
  "kernelspec": {
   "display_name": "Python 3",
   "language": "python",
   "name": "python3"
  },
  "language_info": {
   "codemirror_mode": {
    "name": "ipython",
    "version": 3
   },
   "file_extension": ".py",
   "mimetype": "text/x-python",
   "name": "python",
   "nbconvert_exporter": "python",
   "pygments_lexer": "ipython3",
   "version": "3.6.6"
  }
 },
 "nbformat": 4,
 "nbformat_minor": 2
}
